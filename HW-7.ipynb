{
 "cells": [
  {
   "cell_type": "markdown",
   "metadata": {},
   "source": [
    "# Домашнее задание №7: деревья, случайный лес (14.5 баллов)\n",
    "\n",
    "## Часть 1: основы построения решающие дерева\n",
    "\n",
    "начнём с простого..."
   ]
  },
  {
   "cell_type": "markdown",
   "metadata": {},
   "source": [
    "### Задание 1.1 (1 балл)\n",
    "Пусть известно, что в вершину решающего дерева попали 10 объектов, 8 из которых имеют метку класса $k_1$, а 2 - $k_2$. Посчитайте энтропию (с натуральным логарифмом). Ответ округлите до двух знаков после запятой."
   ]
  },
  {
   "cell_type": "code",
   "execution_count": 322,
   "metadata": {},
   "outputs": [
    {
     "name": "stdout",
     "output_type": "stream",
     "text": [
      "0.5\n"
     ]
    }
   ],
   "source": [
    "from math import log \n",
    "\n",
    "print(round((-8/10 * log(8/10, np.e) - 2/10 * log(2/10, np.e)), 2))"
   ]
  },
  {
   "cell_type": "markdown",
   "metadata": {},
   "source": [
    "### Задание 1.2 (1 балл)\n",
    "Пусть дополнительно известно, что вершина из предыдущего задания не является листовой и возможно такое разбиение, что в левое поддерево попадут все объекты класса $k_1$, а в правое - класса $k_2$. Посчитайте критерий информативности (в формулировке разности impurity пришедшей выборки и полученного разбиения) такой вершины с применением индекса Джини. Ответ округлите до двух знаков после запятой."
   ]
  },
  {
   "cell_type": "markdown",
   "metadata": {},
   "source": [
    "Нужно посчитать \\\\(H(R) - H(R_r) - H(R_l)\\\\) (можно считать по той сложной формуле, но по заданию кажется, что нужно обычную разность, которая может быть не очень информативной).\n",
    "\n",
    "\\\\(H(p_1, ..., p_k) = \\sum p_i(1 - p_i)\\\\)"
   ]
  },
  {
   "cell_type": "code",
   "execution_count": 15,
   "metadata": {},
   "outputs": [
    {
     "name": "stdout",
     "output_type": "stream",
     "text": [
      "0.32\n"
     ]
    }
   ],
   "source": [
    "H_R = 8/10 * (1 - 8/10) + 2/10 * (1 - 2/10)\n",
    "H_R_r = 0\n",
    "H_R_l = 0\n",
    "print(round(H_R - H_R_r - H_R_l, 2))"
   ]
  },
  {
   "cell_type": "markdown",
   "metadata": {},
   "source": [
    "### Задание 1.3 (0.5 балла)\n",
    "Пусть при построении дерева образовалась листовая вершина с 10 объектами, значения целевой переменной для которых следующие: [1, 10, 5, 18, 100, 30, 50, 61, 84, 47] (решается задача регрессии). Чему будут равны предсказания модели для этих объектов?"
   ]
  },
  {
   "cell_type": "code",
   "execution_count": 17,
   "metadata": {},
   "outputs": [
    {
     "name": "stdout",
     "output_type": "stream",
     "text": [
      "40.6\n"
     ]
    }
   ],
   "source": [
    "print(sum([1, 10, 5, 18, 100, 30, 50, 61, 84, 47])/10)  # по умолчанию хотим оптимизировать MSE"
   ]
  },
  {
   "cell_type": "markdown",
   "metadata": {},
   "source": [
    "## Часть 2: решающие деревья\n",
    "\n",
    "### Задание 2.1 (2 балла)\n",
    "Первым делом реализуйте функцию `find_best_split`, которая должна находить оптимальное разбиение подмножества обучающей выборки. При решении задачи регрессии испольуйте дисперсию подвыборки, при решении задачи классификации используйте критерий Джини. Эту функцию можно протестировать на датасете `Boston` из `sklearn`."
   ]
  },
  {
   "cell_type": "code",
   "execution_count": 74,
   "metadata": {},
   "outputs": [],
   "source": [
    "from collections import Counter\n",
    "from typing import Dict, List, Tuple, Union\n",
    "\n",
    "import matplotlib.pyplot as plt\n",
    "import numpy as np\n",
    "import pandas as pd\n",
    "from sklearn.datasets import load_boston"
   ]
  },
  {
   "cell_type": "code",
   "execution_count": 75,
   "metadata": {
    "scrolled": true
   },
   "outputs": [],
   "source": [
    "boston = load_boston()\n",
    "X = pd.DataFrame(data=boston[\"data\"], columns=boston[\"feature_names\"])\n",
    "y = boston[\"target\"]\n",
    "\n",
    "# X.head()\n",
    "# print(boston[\"DESCR\"])"
   ]
  },
  {
   "cell_type": "markdown",
   "metadata": {},
   "source": [
    "При решении задания имейте в виду, что под критерием Джини подразумевается такая функция:\n",
    "\n",
    "$$Q(R) = -\\frac {|R_{\\ell}|}{|R|}H(R_\\ell) -\\frac {|R_r|}{|R|}H(R_r) ,$$\n",
    "\n",
    "где $R$ — множество объектов, попавших в вершину, $R_{\\ell}$ и $R_r$ — объекты, попавшие в левое и правое поддеревья,\n",
    "$H(R) = 1 - p_1^2 - p_0^2$, $p_1$, $p_0$ — доли объектов класса 1 и 0 соответственно.\n",
    "\n",
    "Для категориальных признаков применяется наивный алгоритм разбиения: мы пытаемся найти одно значение, разбиение по которому сильнее всего увеличит критерий информативности. Иными словами, объекты с конкретным значением признака отправляем в левое поддерево, остальные - в правое. Обратите внимание, что это далеко не оптимальные способ учёта категориальных признаков. Например, можно было бы на каждое значение категориального признака создавать отдельное поддерево или использовать более сложные подходы. Подробнее об этом можно прочитать в конспектах [лекций](https://github.com/esokolov/ml-course-hse/blob/master/2019-fall/lecture-notes/lecture07-trees.pdf) по машинному обучению на ПМИ (раздел «Учёт категориальных признаков»).\n",
    "\n",
    "В качестве подсказок реализации можете пользоваться кодом из бонусной части семинара по решающим деревьям (скачайте решённую версию ноутбука).\n",
    "\n",
    "**Note:** Разрешается делать цикл для перебора порогов, но возможна имплементация без него. За имплементацию без цикла бонус 0.7 балла"
   ]
  },
  {
   "cell_type": "markdown",
   "metadata": {},
   "source": [
    "**Пожалуйста, подскажите**: когда я не делала инициализацию для threshold_best нулями сразу и искала gini_best как максимум из ginis, у меня вылазила в 2.5 ошибка, что ginis пуст и максимум взять нельзя. Потом поправила на такое, и ошибка перестала вылезать. Но я очень хочу понять, что было не так. Попыталась в 2.5 исправить код так, чтобы никуда точно не попадало пустое feature_vector. Но все равно была такая ошибка. Почему она? Как возникает? 😭"
   ]
  },
  {
   "cell_type": "code",
   "execution_count": 76,
   "metadata": {},
   "outputs": [],
   "source": [
    "def find_best_split(\n",
    "    feature_vector: Union[np.ndarray, pd.DataFrame], \n",
    "    target_vector: Union[np.ndarray, pd.Series],\n",
    "    task: str = \"classification\",\n",
    "    feature_type: str = \"real\"\n",
    ") -> Tuple[np.ndarray, np.ndarray, float, float]:\n",
    "    \"\"\"\n",
    "    Указания:\n",
    "    * Пороги, приводящие к попаданию в одно из поддеревьев пустого множества объектов, не рассматриваются.\n",
    "    * В качестве порогов, нужно брать среднее двух сосдених (при сортировке) значений признака\n",
    "    * Поведение функции в случае константного признака может быть любым.\n",
    "    * При одинаковых приростах Джини или дисперсии нужно выбирать минимальный сплит.\n",
    "    * За наличие в функции циклов балл будет снижен. Векторизуйте! :)\n",
    "\n",
    "    :param feature_vector: вещественнозначный вектор значений признака\n",
    "    :param target_vector: вектор классов объектов,  len(feature_vector) == len(target_vector)\n",
    "    :param task: либо `classification`, либо `regression`\n",
    "    :param feature_type: либо `real`, либо `categorical`\n",
    "    \n",
    "    :return thresholds: отсортированный по возрастанию вектор со всеми возможными порогами, по которым объекты можно\n",
    "     разделить на две различные подвыборки, или поддерева\n",
    "    :return ginis: вектор со значениями критерия Джини для каждого из порогов в thresholds len(ginis) == len(thresholds)\n",
    "    :return threshold_best: оптимальный порог (число)\n",
    "    :return gini_best: оптимальное значение критерия Джини (число)\n",
    "    \"\"\"\n",
    "    \n",
    "    # в качестве порогов нужно брать среднее двух соседних при сортировке значений признака. Отсортируем:\n",
    "    \n",
    "    thresholds = np.sort(np.unique(feature_vector))\n",
    "    \n",
    "    # обработаем вещественный случай. Надо брать среднее соседних. Сделаю для этого два новых вектора: в одном все \n",
    "    # признаки, кроме последнего, а в другом --- все, кроме первого. Сложу их поэлементно и поделю на 2. Например, \n",
    "    # если было 1-2-3-4, то будут два вектора: 2-3-4, 1-2-3. Сложу и поделю на 2: (1 + 2)/2-(2 + 3)/2-(3 + 4)/2\n",
    "\n",
    "    if feature_type == 'real':\n",
    "        t_first = thresholds[:-1]\n",
    "        t_last = thresholds[1:]\n",
    "        thresholds = (t_first + t_last)/2\n",
    "        threshold_best = 0\n",
    "    \n",
    "    else:\n",
    "        threshold_best = '0'\n",
    "    \n",
    "    # мощность множества объектов:\n",
    "    R = len(target_vector)\n",
    "    \n",
    "    # массив с значениями критерия Джини\n",
    "    ginis = np.array([])\n",
    "    gini_best = -np.inf\n",
    "    \n",
    "    i = -1\n",
    "    while i + 1 < len(thresholds):\n",
    "        i += 1\n",
    "        \n",
    "        # теперь t --- конкретное значение порога\n",
    "        t = thresholds[i]\n",
    "        \n",
    "        # разбиение\n",
    "        if feature_type == 'categorical':\n",
    "            target_vector_L = target_vector[feature_vector == t]\n",
    "            target_vector_R = target_vector[feature_vector != t]\n",
    "        else:\n",
    "            target_vector_L = target_vector[feature_vector <= t]\n",
    "            target_vector_R = target_vector[feature_vector > t]\n",
    "        \n",
    "        # размер левого разбиения:\n",
    "        R_L = len(target_vector_L)\n",
    "        \n",
    "        # размер правого разбиения:\n",
    "        R_R = len(target_vector_R)\n",
    "        \n",
    "        if R_L == 0 or R_R == 0:\n",
    "            thresholds = np.delete(thresholds, i)\n",
    "            i -= 1\n",
    "            continue\n",
    "        \n",
    "        # для регрессии:\n",
    "        if task == 'regression':\n",
    "            # средние по разбиениям:\n",
    "            y_R = sum(target_vector_R)/R_R\n",
    "            y_L = sum(target_vector_L)/R_L\n",
    "            \n",
    "            # хаотичности для правого и левого разбиений:\n",
    "            H_R = sum((target_vector_R - y_R)**2)/R_R\n",
    "            H_L = sum((target_vector_L - y_L)**2)/R_L\n",
    "            \n",
    "        # для классификации:\n",
    "        else:\n",
    "            # доли классов для левого разбиения:\n",
    "            p1 = sum(target_vector_L)/R_L\n",
    "            p0 = 1 - p1\n",
    "        \n",
    "            # хаотичность для левого разбиения:\n",
    "            H_L = 1 - p0**2 - p1**2\n",
    "        \n",
    "            # доли классов для правого разбиения:\n",
    "            p1 = sum(target_vector_R)/R_R\n",
    "            p0 = 1 - p1\n",
    "        \n",
    "            # хаотичность для правого разбиения:\n",
    "            H_R = 1 - p0**2 - p1**2\n",
    "        \n",
    "        # наконец, посчитаем Джини\n",
    "        Q = -1 * R_L/R * H_L - R_R/R * H_R\n",
    "        ginis = np.append(ginis, Q)\n",
    "        if Q > gini_best:  # Джини чем больше, тем лучше (раз мы берем Джини с минусом почему-то по заданию)\n",
    "            gini_best = Q\n",
    "            threshold_best = thresholds[i]\n",
    "\n",
    "    return thresholds, ginis, threshold_best, gini_best\n",
    "\n",
    "thresholds, variances, threshold_best, variance_best = find_best_split(\n",
    "    X[\"CRIM\"].to_numpy(), \n",
    "    y, \n",
    "    task=\"regression\",\n",
    "    feature_type=\"real\"\n",
    ")"
   ]
  },
  {
   "cell_type": "markdown",
   "metadata": {},
   "source": [
    "Выведите график зависимости значения критерия ошибки от порогового значения при разбиении вершины по признаку `CRIM`."
   ]
  },
  {
   "cell_type": "code",
   "execution_count": 77,
   "metadata": {},
   "outputs": [
    {
     "data": {
      "text/plain": [
       "Text(0, 0.5, 'ginis')"
      ]
     },
     "execution_count": 77,
     "metadata": {},
     "output_type": "execute_result"
    },
    {
     "data": {
      "image/png": "[encoded data removed]",
      "text/plain": [
       "<Figure size 432x288 with 1 Axes>"
      ]
     },
     "metadata": {
      "needs_background": "light"
     },
     "output_type": "display_data"
    }
   ],
   "source": [
    "import matplotlib.pyplot as plt\n",
    "\n",
    "plt.plot(thresholds, variances)\n",
    "plt.xlabel('thresholds')\n",
    "plt.ylabel('ginis')"
   ]
  },
  {
   "cell_type": "markdown",
   "metadata": {},
   "source": [
    "### Задание 2.2 (3 балла)\n",
    "Разберитесь с написанным кодом решающего дерева, заполните пропуски в коде и реализуйте недостающий метод _predict_node.\n",
    "\n",
    "Построение дерева осуществляется согласно базовому жадному алгоритму, предложенному в лекции в разделе «Построение дерева».\n",
    "- Выбор лучшего разбиения необходимо производить по критерию Джини\n",
    "- Критерий останова: все объекты в листе относятся к одному классу или ни по одному признаку нельзя разбить выборку\n",
    "- Ответ в листе: наиболее часто встречающийся класс в листе"
   ]
  },
  {
   "cell_type": "code",
   "execution_count": 10,
   "metadata": {},
   "outputs": [],
   "source": [
    "class DecisionTree:\n",
    "    def __init__(\n",
    "        self, \n",
    "        feature_types: Union[List[str], np.ndarray], \n",
    "        max_depth: int = None, \n",
    "        min_samples_split: int = None, \n",
    "        min_samples_leaf: int = None,\n",
    "        task: str = \"classification\"\n",
    "    ) -> None:\n",
    "        \n",
    "        if np.any(list(map(lambda x: x != \"real\" and x != \"categorical\", feature_types))):\n",
    "            raise ValueError(\"There is unknown feature type\")\n",
    "\n",
    "        # В этой переменной будем хранить узлы решающего дерева. Каждая вершина хранит в себе идентификатор того,\n",
    "        # является ли она листовой. Листовые вершины хранят значение класса для предсказания, нелистовые - правого и\n",
    "        # левого детей (поддеревья для продолжения процедуры предсказания)\n",
    "        self._tree = {}\n",
    "        \n",
    "        # типы признаков (категориальные или числовые)\n",
    "        self._feature_types = feature_types\n",
    "        \n",
    "        # гиперпараметры дерева\n",
    "        self._max_depth = max_depth\n",
    "        self._min_samples_split = min_samples_split\n",
    "        self._min_samples_leaf = min_samples_leaf\n",
    "        self.task = task\n",
    "\n",
    "    def _fit_node(\n",
    "        self, \n",
    "        sub_X: np.ndarray, \n",
    "        sub_y: np.ndarray, \n",
    "        node: dict\n",
    "    ) -> None:\n",
    "        \n",
    "        # критерий останова\n",
    "        if np.all(sub_y == sub_y[0]):\n",
    "            node[\"type\"] = \"terminal\"\n",
    "            node[\"class\"] = sub_y[0]\n",
    "            return\n",
    "\n",
    "        feature_best, threshold_best, gini_best, split = None, None, None, None\n",
    "        for feature in range(sub_X.shape[1]):\n",
    "            feature_type = self._feature_types[feature]\n",
    "            categories_map = {}\n",
    "\n",
    "            # подготавливаем признак для поиска оптимального порога\n",
    "            if feature_type == \"real\":\n",
    "                feature_vector = sub_X[:, feature]\n",
    "            elif feature_type == \"categorical\":\n",
    "                # здесь могла быть реализация более сложного подхода к обработке категориального признака\n",
    "                feature_vector = sub_X[:, feature]\n",
    "\n",
    "            # ищем оптимальный порог\n",
    "            _, _, threshold, gini = find_best_split(feature_vector, sub_y, self.task, feature_type)\n",
    "            \n",
    "            if gini_best is None or gini > gini_best:\n",
    "                feature_best = feature\n",
    "                gini_best = gini\n",
    "\n",
    "                # split - маска на объекты, которые должны попасть в левое поддерево\n",
    "                if feature_type == \"real\":\n",
    "                    threshold_best = threshold\n",
    "                    split = feature_vector <= threshold_best  # !тут мой код!\n",
    "                elif feature_type == \"categorical\":\n",
    "                    # в данной реализации это просто значение категории\n",
    "                    threshold_best = threshold\n",
    "                    split = feature_vector == threshold_best  # !тут мой код!\n",
    "                else:\n",
    "                    raise ValueError\n",
    "\n",
    "        # записываем полученные сплиты в атрибуты класса\n",
    "        if feature_best is None:\n",
    "            node[\"type\"] = \"terminal\"\n",
    "            node[\"class\"] = Counter(sub_y).most_common(1)[0][0]\n",
    "            return\n",
    "\n",
    "        node[\"type\"] = \"nonterminal\"\n",
    "\n",
    "        node[\"feature_split\"] = feature_best\n",
    "        if self._feature_types[feature_best] == \"real\":\n",
    "            node[\"threshold\"] = threshold_best\n",
    "        elif self._feature_types[feature_best] == \"categorical\":\n",
    "            node[\"category_split\"] = threshold_best\n",
    "        else:\n",
    "            raise ValueError\n",
    "            \n",
    "        node[\"left_child\"], node[\"right_child\"] = {}, {}\n",
    "        self._fit_node(sub_X[split], sub_y[split], node[\"left_child\"])\n",
    "        self._fit_node(sub_X[np.logical_not(split)], sub_y[np.logical_not(split)], node[\"right_child\"])\n",
    "\n",
    "    def _predict_node(self, x: np.ndarray, node: dict) -> int:\n",
    "        \"\"\"\n",
    "        Предсказание начинается с корневой вершины дерева и рекурсивно идёт в левое или правое поддерево в зависимости от значения\n",
    "        предиката на объекте. Листовая вершина возвращает предсказание.\n",
    "        :param x: np.array, элемент выборки\n",
    "        :param node: dict, вершина дерева\n",
    "        \"\"\"\n",
    "        if (node[\"type\"] == \"terminal\"):\n",
    "            return node[\"class\"] \n",
    "    \n",
    "        feature_best = node[\"feature_split\"]\n",
    "        if self._feature_types[feature_best] == \"categorical\":\n",
    "            if x[feature_best] == node[\"category_split\"]:\n",
    "                return self._predict_node(x, node[\"left_child\"])\n",
    "            else:\n",
    "                return self._predict_node(x, node[\"right_child\"])\n",
    "        else:\n",
    "            if x[feature_best] <= node[\"threshold\"]:\n",
    "                return self._predict_node(x, node[\"left_child\"])\n",
    "            else:\n",
    "                return self._predict_node(x, node[\"right_child\"])\n",
    "\n",
    "    def fit(self, X: np.ndarray, y: np.ndarray) -> None:\n",
    "        self._fit_node(X, y, self._tree)\n",
    "\n",
    "    def predict(self, X: np.ndarray) -> np.ndarray:\n",
    "        predicted = []\n",
    "        for x in X:\n",
    "            predicted.append(self._predict_node(x, self._tree))\n",
    "\n",
    "        return np.array(predicted)"
   ]
  },
  {
   "cell_type": "markdown",
   "metadata": {},
   "source": [
    "### Задание 2.3 (1 балл)\n",
    "Загрузите таблицу [students.csv](https://drive.google.com/file/d/0B2zoFVYw1rN3a0d0Zm43TzQ4aUU/view?usp=sharing) (это немного преобразованный датасет [User Knowledge](https://archive.ics.uci.edu/ml/datasets/User+Knowledge+Modeling)). В ней признаки объекта записаны в первых пяти столбцах, а в последнем записана целевая переменная (класс: 0 или 1). Постройте на одном изображении пять кривых \"порог — значение критерия Джини\" для всех пяти признаков. Отдельно визуализируйте scatter-графики \"значение признака — класс\" для всех пяти признаков."
   ]
  },
  {
   "cell_type": "code",
   "execution_count": 42,
   "metadata": {},
   "outputs": [
    {
     "data": {
      "image/png": "[encoded data removed]",
      "text/plain": [
       "<Figure size 432x288 with 1 Axes>"
      ]
     },
     "metadata": {
      "needs_background": "light"
     },
     "output_type": "display_data"
    }
   ],
   "source": [
    "data = pd.read_csv('students.csv')\n",
    "\n",
    "feats = data.iloc[:, :5]\n",
    "target = data.iloc[:, -1]\n",
    "names = data.columns\n",
    "\n",
    "for i in range(5):\n",
    "    thresholds, variances, threshold_best, variance_best = find_best_split(data.iloc[:, i], target)\n",
    "    plt.plot(thresholds, variances, label = names[i])\n",
    "    \n",
    "plt.legend()\n",
    "plt.xlabel(\"threshold\")\n",
    "plt.ylabel(\"критерий Джини\")\n",
    "plt.show()"
   ]
  },
  {
   "cell_type": "code",
   "execution_count": 43,
   "metadata": {},
   "outputs": [
    {
     "data": {
      "image/png": "[encoded data removed]",
      "text/plain": [
       "<Figure size 432x288 with 1 Axes>"
      ]
     },
     "metadata": {
      "needs_background": "light"
     },
     "output_type": "display_data"
    },
    {
     "data": {
      "image/png": "[encoded data removed]",
      "text/plain": [
       "<Figure size 432x288 with 1 Axes>"
      ]
     },
     "metadata": {
      "needs_background": "light"
     },
     "output_type": "display_data"
    },
    {
     "data": {
      "image/png": "[encoded data removed]",
      "text/plain": [
       "<Figure size 432x288 with 1 Axes>"
      ]
     },
     "metadata": {
      "needs_background": "light"
     },
     "output_type": "display_data"
    },
    {
     "data": {
      "image/png": "[encoded data removed]",
      "text/plain": [
       "<Figure size 432x288 with 1 Axes>"
      ]
     },
     "metadata": {
      "needs_background": "light"
     },
     "output_type": "display_data"
    },
    {
     "data": {
      "image/png": "[encoded data removed]",
      "text/plain": [
       "<Figure size 432x288 with 1 Axes>"
      ]
     },
     "metadata": {
      "needs_background": "light"
     },
     "output_type": "display_data"
    }
   ],
   "source": [
    "for i in range(5):\n",
    "    plt.scatter(data.iloc[:, i], target)\n",
    "    plt.title(names[i])\n",
    "    plt.xlabel(\"Значение признака\")\n",
    "    plt.ylabel(\"Класс\")\n",
    "    plt.show()"
   ]
  },
  {
   "cell_type": "markdown",
   "metadata": {},
   "source": [
    "### Задание 2.4 (1 балл)\n",
    "\n",
    "**Задача**. Исходя из кривых значений критерия Джини, по какому признаку нужно производить деление выборки на два поддерева? Согласуется ли этот результат с визуальной оценкой scatter-графиков? Как бы охарактеризовали вид кривой для \"хороших\" признаков, по которым выборка делится почти идеально? Чем отличаются кривые для признаков, по которым деление практически невозможно?"
   ]
  },
  {
   "cell_type": "markdown",
   "metadata": {},
   "source": [
    "**Ответ**. Наибольший критерий Джини --- т.е. наиболее близкий к нулю (а значит, когда хаотичность наиболее близка к нулю: что нам и нужно) --- когда производим отбор по PEG, причем разница с отбором по остальным признакам довольно значительная.\n",
    "\n",
    "Действительно, для scatter-графика PEG мы можем провести вертикальную линию (порог) так, чтобы классы достаточно хорошо разделились. Для остальных графиков видим, что сделать это сносно не удастся.\n",
    "\n",
    "Вид кривой для \"хороших\" признаков имеет одну явную вершину-выпуклость, в ее совсем вершине как раз хорошее разбиение. Если критерий Джини в целом сначала все лучше и лучше (кривая возрастает), а потом все хуже и хуже (кривая убывает), то поделится хорошо. А если критерий то улучшается, то ухудшается, то обратно улучшается, то снова ухудшается, то выбрать порог, чтобы осмысленно поделить, вряд ли удастся, ведь мы не можем провести вертикальную линию так, чтобы отделить значения получше от значений похуже, они повторяются."
   ]
  },
  {
   "cell_type": "markdown",
   "metadata": {},
   "source": [
    "### Задание 2.5 (1 балл)\n",
    "\n",
    "Протестируйте свое решающее дерево на датасете [mushrooms](https://archive.ics.uci.edu/ml/datasets/Mushroom). Вам нужно скачать таблицу agaricus-lepiota.data (из [Data Folder](https://archive.ics.uci.edu/ml/machine-learning-databases/mushroom/)), прочитать ее с помощью pandas, применить к каждому столбцу LabelEncoder (из sklearn), чтобы преобразовать строковые имена категорий в натуральные числа. Первый столбец — это целевая переменная (e — edible, p — poisonous) Мы будем измерять качество с помощью accuracy, так что нам не очень важно, что будет классом 1, а что — классом 0. Обучите решающее дерево на половине случайно выбранных объектов (признаки в датасете категориальные) и сделайте предсказания для оставшейся половины. Вычислите accuracy."
   ]
  },
  {
   "cell_type": "code",
   "execution_count": 44,
   "metadata": {},
   "outputs": [],
   "source": [
    "# закодируем столбцы\n",
    "\n",
    "from sklearn import preprocessing\n",
    "data = pd.read_csv('agaricus-lepiota.data').apply(preprocessing.LabelEncoder().fit_transform)"
   ]
  },
  {
   "cell_type": "code",
   "execution_count": 45,
   "metadata": {},
   "outputs": [],
   "source": [
    "# отделяю признаки от таргета\n",
    "\n",
    "feat = data.iloc[:, 1:]\n",
    "target = data.iloc[:, 0]"
   ]
  },
  {
   "cell_type": "code",
   "execution_count": 46,
   "metadata": {},
   "outputs": [],
   "source": [
    "# разбиваю на обучение и тест\n",
    "\n",
    "from sklearn.model_selection import train_test_split\n",
    "\n",
    "X_train, X_test, y_train, y_test = train_test_split(feat, target, test_size=0.5, random_state=42)"
   ]
  },
  {
   "cell_type": "code",
   "execution_count": 47,
   "metadata": {},
   "outputs": [],
   "source": [
    "# обучаю\n",
    "\n",
    "Tree = DecisionTree([\"categorical\"] * feat.shape[1])\n",
    "Tree.fit(np.array(X_train), np.array(y_train))  # т.к. функция принимает ndarray, а не dataframe"
   ]
  },
  {
   "cell_type": "code",
   "execution_count": 48,
   "metadata": {},
   "outputs": [
    {
     "name": "stdout",
     "output_type": "stream",
     "text": [
      "1.0\n"
     ]
    }
   ],
   "source": [
    "# предсказываю и оцениваю\n",
    "from sklearn.metrics import accuracy_score\n",
    "\n",
    "y_pred = Tree.predict(np.array(X_test))\n",
    "print(accuracy_score(y_test, y_pred))"
   ]
  },
  {
   "cell_type": "markdown",
   "metadata": {},
   "source": [
    "## Часть 3: бэггинг, случайный лес"
   ]
  },
  {
   "cell_type": "markdown",
   "metadata": {},
   "source": [
    "В данной части будем работать [с задачей предсказания диабета у пациента](https://www.kaggle.com/uciml/pima-indians-diabetes-database/data). Посмотрим на работу бэггинга над решающими деревьями и случайного леса, сравним их работу."
   ]
  },
  {
   "cell_type": "code",
   "execution_count": 63,
   "metadata": {},
   "outputs": [],
   "source": [
    "from sklearn.ensemble import BaggingClassifier, RandomForestClassifier\n",
    "from sklearn.metrics import accuracy_score, precision_score, recall_score, roc_auc_score\n",
    "from sklearn.model_selection import train_test_split\n",
    "from sklearn.tree import DecisionTreeClassifier"
   ]
  },
  {
   "cell_type": "code",
   "execution_count": 64,
   "metadata": {
    "scrolled": true
   },
   "outputs": [
    {
     "name": "stdout",
     "output_type": "stream",
     "text": [
      "Dataset shape: (768, 9)\n"
     ]
    },
    {
     "data": {
      "text/html": [
       "<div>\n",
       "<style scoped>\n",
       "    .dataframe tbody tr th:only-of-type {\n",
       "        vertical-align: middle;\n",
       "    }\n",
       "\n",
       "    .dataframe tbody tr th {\n",
       "        vertical-align: top;\n",
       "    }\n",
       "\n",
       "    .dataframe thead th {\n",
       "        text-align: right;\n",
       "    }\n",
       "</style>\n",
       "<table border=\"1\" class=\"dataframe\">\n",
       "  <thead>\n",
       "    <tr style=\"text-align: right;\">\n",
       "      <th></th>\n",
       "      <th>Pregnancies</th>\n",
       "      <th>Glucose</th>\n",
       "      <th>BloodPressure</th>\n",
       "      <th>SkinThickness</th>\n",
       "      <th>Insulin</th>\n",
       "      <th>BMI</th>\n",
       "      <th>DiabetesPedigreeFunction</th>\n",
       "      <th>Age</th>\n",
       "      <th>Outcome</th>\n",
       "    </tr>\n",
       "  </thead>\n",
       "  <tbody>\n",
       "    <tr>\n",
       "      <td>0</td>\n",
       "      <td>6</td>\n",
       "      <td>148</td>\n",
       "      <td>72</td>\n",
       "      <td>35</td>\n",
       "      <td>0</td>\n",
       "      <td>33.6</td>\n",
       "      <td>0.627</td>\n",
       "      <td>50</td>\n",
       "      <td>1</td>\n",
       "    </tr>\n",
       "    <tr>\n",
       "      <td>1</td>\n",
       "      <td>1</td>\n",
       "      <td>85</td>\n",
       "      <td>66</td>\n",
       "      <td>29</td>\n",
       "      <td>0</td>\n",
       "      <td>26.6</td>\n",
       "      <td>0.351</td>\n",
       "      <td>31</td>\n",
       "      <td>0</td>\n",
       "    </tr>\n",
       "    <tr>\n",
       "      <td>2</td>\n",
       "      <td>8</td>\n",
       "      <td>183</td>\n",
       "      <td>64</td>\n",
       "      <td>0</td>\n",
       "      <td>0</td>\n",
       "      <td>23.3</td>\n",
       "      <td>0.672</td>\n",
       "      <td>32</td>\n",
       "      <td>1</td>\n",
       "    </tr>\n",
       "    <tr>\n",
       "      <td>3</td>\n",
       "      <td>1</td>\n",
       "      <td>89</td>\n",
       "      <td>66</td>\n",
       "      <td>23</td>\n",
       "      <td>94</td>\n",
       "      <td>28.1</td>\n",
       "      <td>0.167</td>\n",
       "      <td>21</td>\n",
       "      <td>0</td>\n",
       "    </tr>\n",
       "    <tr>\n",
       "      <td>4</td>\n",
       "      <td>0</td>\n",
       "      <td>137</td>\n",
       "      <td>40</td>\n",
       "      <td>35</td>\n",
       "      <td>168</td>\n",
       "      <td>43.1</td>\n",
       "      <td>2.288</td>\n",
       "      <td>33</td>\n",
       "      <td>1</td>\n",
       "    </tr>\n",
       "  </tbody>\n",
       "</table>\n",
       "</div>"
      ],
      "text/plain": [
       "   Pregnancies  Glucose  BloodPressure  SkinThickness  Insulin   BMI  \\\n",
       "0            6      148             72             35        0  33.6   \n",
       "1            1       85             66             29        0  26.6   \n",
       "2            8      183             64              0        0  23.3   \n",
       "3            1       89             66             23       94  28.1   \n",
       "4            0      137             40             35      168  43.1   \n",
       "\n",
       "   DiabetesPedigreeFunction  Age  Outcome  \n",
       "0                     0.627   50        1  \n",
       "1                     0.351   31        0  \n",
       "2                     0.672   32        1  \n",
       "3                     0.167   21        0  \n",
       "4                     2.288   33        1  "
      ]
     },
     "execution_count": 64,
     "metadata": {},
     "output_type": "execute_result"
    }
   ],
   "source": [
    "data = pd.read_csv('diabetes.csv')\n",
    "print(f\"Dataset shape: {data.shape}\")\n",
    "data.head()"
   ]
  },
  {
   "cell_type": "markdown",
   "metadata": {},
   "source": [
    "Посмотрим на распределение целевой переменной"
   ]
  },
  {
   "cell_type": "code",
   "execution_count": 53,
   "metadata": {},
   "outputs": [
    {
     "data": {
      "image/png": "[encoded data removed]",
      "text/plain": [
       "<Figure size 432x288 with 1 Axes>"
      ]
     },
     "metadata": {
      "needs_background": "light"
     },
     "output_type": "display_data"
    }
   ],
   "source": [
    "data['Outcome'].hist()\n",
    "plt.show()"
   ]
  },
  {
   "cell_type": "markdown",
   "metadata": {},
   "source": [
    "Разделите данные на признаки и целевую переменную. Разбейте датасет на тренировочную и тестовую части в отношении 70:30."
   ]
  },
  {
   "cell_type": "code",
   "execution_count": 65,
   "metadata": {},
   "outputs": [],
   "source": [
    "from sklearn.model_selection import train_test_split\n",
    "target = data['Outcome']\n",
    "feat = data.iloc[:, 0:8]\n",
    "X_train, X_test, y_train, y_test = train_test_split(feat, target, test_size=0.3, random_state=42)"
   ]
  },
  {
   "cell_type": "markdown",
   "metadata": {},
   "source": [
    "### Задание 3.1 (1 балл)\n",
    "\n",
    "Обучите [`BaggingClassifier`](https://scikit-learn.org/stable/modules/generated/sklearn.ensemble.BaggingClassifier.html) на 50 деревьях. Оцените качество классификации на тестовой выборке по метрикам `accuracy`, `precision` и `recall`, `auc_roc`."
   ]
  },
  {
   "cell_type": "code",
   "execution_count": 66,
   "metadata": {},
   "outputs": [
    {
     "name": "stdout",
     "output_type": "stream",
     "text": [
      "accuracy: 0.7445887445887446 precision: 0.6235294117647059 recall: 0.6625 auc_roc: 0.7252897350993377\n"
     ]
    }
   ],
   "source": [
    "from sklearn.ensemble import BaggingClassifier\n",
    "\n",
    "clf = BaggingClassifier(n_estimators=50)\n",
    "clf.fit(X_train, y_train)\n",
    "\n",
    "y_test_predict = clf.predict(X_test)\n",
    "print(\"accuracy:\", accuracy_score(y_test, y_test_predict), \"precision:\", precision_score(y_test, y_test_predict), \n",
    "      \"recall:\", recall_score(y_test, y_test_predict), \"auc_roc:\", roc_auc_score(y_test, y_test_predict))"
   ]
  },
  {
   "cell_type": "markdown",
   "metadata": {},
   "source": [
    "### Задание 3.2 (1 балл)\n",
    "\n",
    "Теперь обучите Random Forest с таким же количеством деревьев. Оцените качество классификации по тем же метрикам. Какая из двух построенных моделей показала себя лучше?"
   ]
  },
  {
   "cell_type": "code",
   "execution_count": 62,
   "metadata": {},
   "outputs": [
    {
     "name": "stdout",
     "output_type": "stream",
     "text": [
      "accuracy: 0.7272727272727273 precision: 0.6024096385542169 recall: 0.625 auc_roc: 0.703228476821192\n"
     ]
    }
   ],
   "source": [
    "from sklearn.ensemble import RandomForestClassifier\n",
    "\n",
    "rf = RandomForestClassifier(n_estimators=50)\n",
    "rf.fit(X_train, y_train)\n",
    "\n",
    "y_test_predict = rf.predict(X_test)\n",
    "print(\"accuracy:\", accuracy_score(y_test, y_test_predict), \"precision:\", precision_score(y_test, y_test_predict), \n",
    "      \"recall:\", recall_score(y_test, y_test_predict), \"auc_roc:\", roc_auc_score(y_test, y_test_predict))"
   ]
  },
  {
   "cell_type": "markdown",
   "metadata": {},
   "source": [
    "Лучше себя показал бэггинг."
   ]
  },
  {
   "cell_type": "markdown",
   "metadata": {},
   "source": [
    "### Задание 3.3 (1 балл)\n",
    "\n",
    "Для случайного леса проанализируйте значение AUC-ROC на этих же данных в зависимости от изменения параметров (можете сделать обычный перебор с обучением/тестированием в цикле):\n",
    "* `'n_estimators'` (можно перебрать около 10 значений из отрезка от 10 до 1500)\n",
    "* `'min_samples_leaf'` (сетку значений можете выбрать на ваше усмотрение)\n",
    "\n",
    "Постройте соответствующие графики зависимости AUC-ROC от этих параметров. Используйте heat map для визуализации. Какие выводы вы можете сделать?"
   ]
  },
  {
   "cell_type": "code",
   "execution_count": 67,
   "metadata": {},
   "outputs": [],
   "source": [
    "# посчитаем AUC_ROC для ста значений. Кажется, было логичнее сразу записывать в таблицу...\n",
    "\n",
    "n_estimators = [int(x) for x in np.linspace(start = 100, stop = 1500, num = 10)]\n",
    "min_samples_leaf = [int(x) for x in np.linspace(start = 2, stop = 50, num = 10)]\n",
    "\n",
    "AUC_ROC = []\n",
    "models = []\n",
    "for n in n_estimators:\n",
    "    for m in min_samples_leaf:\n",
    "        rf = RandomForestClassifier(n_estimators=n, min_samples_leaf = m)\n",
    "        rf.fit(X_train, y_train)\n",
    "        y_test_predict = rf.predict(X_test)\n",
    "        AUC_ROC.append(roc_auc_score(y_test, y_test_predict))\n",
    "        models.append(rf)"
   ]
  },
  {
   "cell_type": "code",
   "execution_count": 68,
   "metadata": {},
   "outputs": [
    {
     "data": {
      "text/html": [
       "<div>\n",
       "<style scoped>\n",
       "    .dataframe tbody tr th:only-of-type {\n",
       "        vertical-align: middle;\n",
       "    }\n",
       "\n",
       "    .dataframe tbody tr th {\n",
       "        vertical-align: top;\n",
       "    }\n",
       "\n",
       "    .dataframe thead th {\n",
       "        text-align: right;\n",
       "    }\n",
       "</style>\n",
       "<table border=\"1\" class=\"dataframe\">\n",
       "  <thead>\n",
       "    <tr style=\"text-align: right;\">\n",
       "      <th>min_samples_leaf</th>\n",
       "      <th>2</th>\n",
       "      <th>7</th>\n",
       "      <th>12</th>\n",
       "      <th>18</th>\n",
       "      <th>23</th>\n",
       "      <th>28</th>\n",
       "      <th>34</th>\n",
       "      <th>39</th>\n",
       "      <th>44</th>\n",
       "      <th>50</th>\n",
       "    </tr>\n",
       "    <tr>\n",
       "      <th>n_estimators</th>\n",
       "      <th></th>\n",
       "      <th></th>\n",
       "      <th></th>\n",
       "      <th></th>\n",
       "      <th></th>\n",
       "      <th></th>\n",
       "      <th></th>\n",
       "      <th></th>\n",
       "      <th></th>\n",
       "      <th></th>\n",
       "    </tr>\n",
       "  </thead>\n",
       "  <tbody>\n",
       "    <tr>\n",
       "      <td>100</td>\n",
       "      <td>0.719412</td>\n",
       "      <td>0.732657</td>\n",
       "      <td>0.727152</td>\n",
       "      <td>0.698841</td>\n",
       "      <td>0.711714</td>\n",
       "      <td>0.692964</td>\n",
       "      <td>0.699214</td>\n",
       "      <td>0.702525</td>\n",
       "      <td>0.699586</td>\n",
       "      <td>0.715770</td>\n",
       "    </tr>\n",
       "    <tr>\n",
       "      <td>255</td>\n",
       "      <td>0.741474</td>\n",
       "      <td>0.729346</td>\n",
       "      <td>0.704346</td>\n",
       "      <td>0.717964</td>\n",
       "      <td>0.724214</td>\n",
       "      <td>0.715025</td>\n",
       "      <td>0.687086</td>\n",
       "      <td>0.693336</td>\n",
       "      <td>0.677897</td>\n",
       "      <td>0.696647</td>\n",
       "    </tr>\n",
       "    <tr>\n",
       "      <td>411</td>\n",
       "      <td>0.722724</td>\n",
       "      <td>0.720157</td>\n",
       "      <td>0.710969</td>\n",
       "      <td>0.711341</td>\n",
       "      <td>0.717964</td>\n",
       "      <td>0.715025</td>\n",
       "      <td>0.690025</td>\n",
       "      <td>0.690025</td>\n",
       "      <td>0.696647</td>\n",
       "      <td>0.684147</td>\n",
       "    </tr>\n",
       "    <tr>\n",
       "      <td>566</td>\n",
       "      <td>0.725662</td>\n",
       "      <td>0.720157</td>\n",
       "      <td>0.710969</td>\n",
       "      <td>0.717964</td>\n",
       "      <td>0.711714</td>\n",
       "      <td>0.711714</td>\n",
       "      <td>0.699214</td>\n",
       "      <td>0.699214</td>\n",
       "      <td>0.690397</td>\n",
       "      <td>0.677897</td>\n",
       "    </tr>\n",
       "    <tr>\n",
       "      <td>722</td>\n",
       "      <td>0.735596</td>\n",
       "      <td>0.729346</td>\n",
       "      <td>0.717591</td>\n",
       "      <td>0.717964</td>\n",
       "      <td>0.705464</td>\n",
       "      <td>0.711714</td>\n",
       "      <td>0.699214</td>\n",
       "      <td>0.687086</td>\n",
       "      <td>0.687086</td>\n",
       "      <td>0.693709</td>\n",
       "    </tr>\n",
       "    <tr>\n",
       "      <td>877</td>\n",
       "      <td>0.726035</td>\n",
       "      <td>0.719785</td>\n",
       "      <td>0.714280</td>\n",
       "      <td>0.714652</td>\n",
       "      <td>0.721275</td>\n",
       "      <td>0.702525</td>\n",
       "      <td>0.693336</td>\n",
       "      <td>0.690025</td>\n",
       "      <td>0.687459</td>\n",
       "      <td>0.681209</td>\n",
       "    </tr>\n",
       "    <tr>\n",
       "      <td>1033</td>\n",
       "      <td>0.728974</td>\n",
       "      <td>0.726407</td>\n",
       "      <td>0.714280</td>\n",
       "      <td>0.714652</td>\n",
       "      <td>0.711714</td>\n",
       "      <td>0.711714</td>\n",
       "      <td>0.699214</td>\n",
       "      <td>0.702897</td>\n",
       "      <td>0.706209</td>\n",
       "      <td>0.684147</td>\n",
       "    </tr>\n",
       "    <tr>\n",
       "      <td>1188</td>\n",
       "      <td>0.741846</td>\n",
       "      <td>0.729719</td>\n",
       "      <td>0.710969</td>\n",
       "      <td>0.711341</td>\n",
       "      <td>0.717964</td>\n",
       "      <td>0.711714</td>\n",
       "      <td>0.712086</td>\n",
       "      <td>0.699586</td>\n",
       "      <td>0.693709</td>\n",
       "      <td>0.697020</td>\n",
       "    </tr>\n",
       "    <tr>\n",
       "      <td>1344</td>\n",
       "      <td>0.735596</td>\n",
       "      <td>0.732657</td>\n",
       "      <td>0.710969</td>\n",
       "      <td>0.714652</td>\n",
       "      <td>0.717964</td>\n",
       "      <td>0.715025</td>\n",
       "      <td>0.690025</td>\n",
       "      <td>0.693336</td>\n",
       "      <td>0.687459</td>\n",
       "      <td>0.684147</td>\n",
       "    </tr>\n",
       "    <tr>\n",
       "      <td>1500</td>\n",
       "      <td>0.728974</td>\n",
       "      <td>0.723096</td>\n",
       "      <td>0.714280</td>\n",
       "      <td>0.717964</td>\n",
       "      <td>0.717964</td>\n",
       "      <td>0.711714</td>\n",
       "      <td>0.695902</td>\n",
       "      <td>0.690025</td>\n",
       "      <td>0.690025</td>\n",
       "      <td>0.687459</td>\n",
       "    </tr>\n",
       "  </tbody>\n",
       "</table>\n",
       "</div>"
      ],
      "text/plain": [
       "min_samples_leaf        2         7         12        18        23        28  \\\n",
       "n_estimators                                                                   \n",
       "100               0.719412  0.732657  0.727152  0.698841  0.711714  0.692964   \n",
       "255               0.741474  0.729346  0.704346  0.717964  0.724214  0.715025   \n",
       "411               0.722724  0.720157  0.710969  0.711341  0.717964  0.715025   \n",
       "566               0.725662  0.720157  0.710969  0.717964  0.711714  0.711714   \n",
       "722               0.735596  0.729346  0.717591  0.717964  0.705464  0.711714   \n",
       "877               0.726035  0.719785  0.714280  0.714652  0.721275  0.702525   \n",
       "1033              0.728974  0.726407  0.714280  0.714652  0.711714  0.711714   \n",
       "1188              0.741846  0.729719  0.710969  0.711341  0.717964  0.711714   \n",
       "1344              0.735596  0.732657  0.710969  0.714652  0.717964  0.715025   \n",
       "1500              0.728974  0.723096  0.714280  0.717964  0.717964  0.711714   \n",
       "\n",
       "min_samples_leaf        34        39        44        50  \n",
       "n_estimators                                              \n",
       "100               0.699214  0.702525  0.699586  0.715770  \n",
       "255               0.687086  0.693336  0.677897  0.696647  \n",
       "411               0.690025  0.690025  0.696647  0.684147  \n",
       "566               0.699214  0.699214  0.690397  0.677897  \n",
       "722               0.699214  0.687086  0.687086  0.693709  \n",
       "877               0.693336  0.690025  0.687459  0.681209  \n",
       "1033              0.699214  0.702897  0.706209  0.684147  \n",
       "1188              0.712086  0.699586  0.693709  0.697020  \n",
       "1344              0.690025  0.693336  0.687459  0.684147  \n",
       "1500              0.695902  0.690025  0.690025  0.687459  "
      ]
     },
     "execution_count": 68,
     "metadata": {},
     "output_type": "execute_result"
    }
   ],
   "source": [
    "# построим соответствующую таблицу\n",
    "\n",
    "AUC_ROC = np.array(AUC_ROC).reshape((10, 10))\n",
    "AUC_ROC_data = pd.DataFrame(AUC_ROC, columns=min_samples_leaf, index=n_estimators)\n",
    "AUC_ROC_data.index.names=['n_estimators']\n",
    "AUC_ROC_data.columns.names=['min_samples_leaf']\n",
    "AUC_ROC_data"
   ]
  },
  {
   "cell_type": "code",
   "execution_count": 69,
   "metadata": {},
   "outputs": [
    {
     "data": {
      "text/plain": [
       "<matplotlib.axes._subplots.AxesSubplot at 0x25eb9ab13c8>"
      ]
     },
     "execution_count": 69,
     "metadata": {},
     "output_type": "execute_result"
    },
    {
     "data": {
      "image/png": "[encoded data removed]",
      "text/plain": [
       "<Figure size 1080x1080 with 2 Axes>"
      ]
     },
     "metadata": {
      "needs_background": "light"
     },
     "output_type": "display_data"
    }
   ],
   "source": [
    "# построим визуализацию \n",
    "\n",
    "import seaborn as sns\n",
    "\n",
    "plt.figure(figsize=(15, 15))\n",
    "sns.heatmap(AUC_ROC_data, annot=True)"
   ]
  },
  {
   "cell_type": "markdown",
   "metadata": {},
   "source": [
    "В целом в последних четырех столбцах значения так себе, особенно в последних двух. Получается, что при маленьких значениях min_samples_leaf результаты лучше, чем при больших, и лучшие достигаются при значениях, вероятно, до десяти. Для n_estimators таких явных выводов сделать не можем: где-то при увеличении становится чуть лучше, где-то чуть хуже, но при 1188 и 722, кажется, получше, чем везде; но главное --- что при маленьких min_samples_leaf в целом все хорошо, а при больших --- в целом все плохо."
   ]
  },
  {
   "cell_type": "markdown",
   "metadata": {},
   "source": [
    "### Задание 3.4 (1 балл)\n",
    "\n",
    "Для лучшей модели случайного леса посчитайте важность признаков и постройте bar plot. Какой признак оказался самым важным для определения диабета?"
   ]
  },
  {
   "cell_type": "code",
   "execution_count": 70,
   "metadata": {},
   "outputs": [],
   "source": [
    "# узнаем лучшую модель\n",
    "\n",
    "best = np.argmax(AUC_ROC)\n",
    "model = models[best]"
   ]
  },
  {
   "cell_type": "code",
   "execution_count": 71,
   "metadata": {},
   "outputs": [
    {
     "data": {
      "text/plain": [
       "array([0.0721419 , 0.28593921, 0.07946265, 0.06340356, 0.06988782,\n",
       "       0.17281811, 0.10443438, 0.15191236])"
      ]
     },
     "execution_count": 71,
     "metadata": {},
     "output_type": "execute_result"
    }
   ],
   "source": [
    "# посчитаем важность признаков \n",
    "\n",
    "model.feature_importances_"
   ]
  },
  {
   "cell_type": "code",
   "execution_count": 72,
   "metadata": {},
   "outputs": [
    {
     "data": {
      "image/png": "[encoded data removed]",
      "text/plain": [
       "<Figure size 1152x720 with 1 Axes>"
      ]
     },
     "metadata": {
      "needs_background": "light"
     },
     "output_type": "display_data"
    }
   ],
   "source": [
    "# построим bar plot\n",
    "\n",
    "import matplotlib.pyplot as plt\n",
    "importances = model.feature_importances_\n",
    "features = np.array(feat.columns)\n",
    "plt.figure(figsize=(16, 10))\n",
    "plt.bar(features, importances)\n",
    "plt.show()"
   ]
  },
  {
   "cell_type": "markdown",
   "metadata": {},
   "source": [
    "Глюкоза самая важная."
   ]
  }
 ],
 "metadata": {
  "kernelspec": {
   "display_name": "Python 3",
   "language": "python",
   "name": "python3"
  },
  "language_info": {
   "codemirror_mode": {
    "name": "ipython",
    "version": 3
   },
   "file_extension": ".py",
   "mimetype": "text/x-python",
   "name": "python",
   "nbconvert_exporter": "python",
   "pygments_lexer": "ipython3",
   "version": "3.7.4"
  }
 },
 "nbformat": 4,
 "nbformat_minor": 4
}
