{
 "cells": [
  {
   "cell_type": "markdown",
   "metadata": {},
   "source": [
    "# Домашнее задание 6: классификация текстов"
   ]
  },
  {
   "cell_type": "markdown",
   "metadata": {},
   "source": [
    "В этом домашнем задании вам предстоит построить классификатор текстов и поучаствовать в соревновании на Kaggle!\n",
    "Первым делом вам предстоит построить хороший бейзлайн, а дальше пытаться улучшать, соревнуясь с другими участниками.\n",
    "\n",
    "\n",
    "Ссылка на соревнование: https://www.kaggle.com/c/avito-category-prediction/overview\n",
    "Данные для домашнего задания можно скачать на странице соревнования.\n",
    "Чтобы ваше участие было засчитано, убедитесь, что имя в Leaderboard имеет вид: «Имя Фамилия номер_группы».\n",
    "\n",
    "Оценивание:\n",
    "\n",
    "Домашнее задание оценивается как обычно. Баллы указаны напротив заданий.\n",
    "\n",
    "За соревнование даются бонусные баллы следующим образом.\n",
    "Если вы пересекли baseline_2 на приватном лидерборде, ваша оценка равна \n",
    "\n",
    "10 - 10 * (i - 1) / M\n",
    "\n",
    "где M — количество студентов, принявших участие в соревновании;\n",
    "\n",
    "i — место (начиная с 1) студента в приватном лидерборде среди всех таких студентов.\n",
    "\n",
    "Правила:\n",
    "\n",
    "* Домашнее задание оценивается в 10 баллов.\n",
    "\n",
    "* Плагиат не допускается. При обнаружении случаев списывания, 0 за работу выставляется всем участникам нарушения, даже если можно установить, кто у кого списал.\n",
    "\n",
    "* Старайтесь сделать код как можно более оптимальным. В частности, будет штрафоваться использование циклов в тех случаях, когда операцию можно совершить при помощи инструментов библиотек, о которых рассказывалось в курсе.  \n",
    "\n",
    "* В течение 3 суток после окончания соревнования в соответствующее задание на anytask необходимо прислать код, воспроизводящий ответы для посылки, фигурирующей в приватном лидерборде. В случае отсутствия кода, воспроизводящего результат, в установленный срок студенту выставляется 0 в качестве оценки за соревнование. Если не оговорено иное, использовать любые внешние данные в соревнованиях '''запрещено'''. Под внешними данными понимаются размеченные данные, где разметка имеет прямое отношение к решаемой задаче. Грубо говоря, сборник текстов с википедии не считается внешними данными.\n"
   ]
  },
  {
   "cell_type": "markdown",
   "metadata": {},
   "source": [
    "Мы будем работать с датасетом объявлений Avito. Нам предстоит по заголовку и тексту объявления предсказывать категорию объявления."
   ]
  },
  {
   "cell_type": "code",
   "execution_count": 31,
   "metadata": {},
   "outputs": [],
   "source": [
    "import pandas as pd"
   ]
  },
  {
   "cell_type": "code",
   "execution_count": 81,
   "metadata": {},
   "outputs": [],
   "source": [
    "train = pd.read_csv('train.csv')\n",
    "test = pd.read_csv('test.csv')"
   ]
  },
  {
   "cell_type": "code",
   "execution_count": 34,
   "metadata": {},
   "outputs": [
    {
     "data": {
      "text/html": [
       "<div>\n",
       "<style scoped>\n",
       "    .dataframe tbody tr th:only-of-type {\n",
       "        vertical-align: middle;\n",
       "    }\n",
       "\n",
       "    .dataframe tbody tr th {\n",
       "        vertical-align: top;\n",
       "    }\n",
       "\n",
       "    .dataframe thead th {\n",
       "        text-align: right;\n",
       "    }\n",
       "</style>\n",
       "<table border=\"1\" class=\"dataframe\">\n",
       "  <thead>\n",
       "    <tr style=\"text-align: right;\">\n",
       "      <th></th>\n",
       "      <th>title</th>\n",
       "      <th>description</th>\n",
       "      <th>Category_name</th>\n",
       "      <th>Category</th>\n",
       "    </tr>\n",
       "  </thead>\n",
       "  <tbody>\n",
       "    <tr>\n",
       "      <td>0</td>\n",
       "      <td>Эбу Renault / Nissan 1,5 DCI Delphi 2001-2008 год</td>\n",
       "      <td>Комплект ЭБУ (мозги, компьютер мотора, двигате...</td>\n",
       "      <td>Запчасти и аксессуары</td>\n",
       "      <td>10</td>\n",
       "    </tr>\n",
       "    <tr>\n",
       "      <td>1</td>\n",
       "      <td>Утюг утп 1000 ватт СССР 1987 год</td>\n",
       "      <td>Продам/\\n Фото № 1-2 /\\n /\\nУтюг УТП 1000 ватт...</td>\n",
       "      <td>Бытовая техника</td>\n",
       "      <td>21</td>\n",
       "    </tr>\n",
       "    <tr>\n",
       "      <td>2</td>\n",
       "      <td>Возвму машину с выкупом</td>\n",
       "      <td>Возьму машину в аренду с последующим выкупом н...</td>\n",
       "      <td>Предложение услуг</td>\n",
       "      <td>114</td>\n",
       "    </tr>\n",
       "    <tr>\n",
       "      <td>3</td>\n",
       "      <td>Полусапожки</td>\n",
       "      <td>полусапожки в отличном состоянии, один раз оде...</td>\n",
       "      <td>Одежда, обувь, аксессуары</td>\n",
       "      <td>27</td>\n",
       "    </tr>\n",
       "    <tr>\n",
       "      <td>4</td>\n",
       "      <td>Босоножки кожаные</td>\n",
       "      <td>Кожаные(натур) босоножки Karlo Pasolini, 40 рр...</td>\n",
       "      <td>Одежда, обувь, аксессуары</td>\n",
       "      <td>27</td>\n",
       "    </tr>\n",
       "  </tbody>\n",
       "</table>\n",
       "</div>"
      ],
      "text/plain": [
       "                                               title  \\\n",
       "0  Эбу Renault / Nissan 1,5 DCI Delphi 2001-2008 год   \n",
       "1                   Утюг утп 1000 ватт СССР 1987 год   \n",
       "2                            Возвму машину с выкупом   \n",
       "3                                        Полусапожки   \n",
       "4                                  Босоножки кожаные   \n",
       "\n",
       "                                         description  \\\n",
       "0  Комплект ЭБУ (мозги, компьютер мотора, двигате...   \n",
       "1  Продам/\\n Фото № 1-2 /\\n /\\nУтюг УТП 1000 ватт...   \n",
       "2  Возьму машину в аренду с последующим выкупом н...   \n",
       "3  полусапожки в отличном состоянии, один раз оде...   \n",
       "4  Кожаные(натур) босоножки Karlo Pasolini, 40 рр...   \n",
       "\n",
       "               Category_name  Category  \n",
       "0      Запчасти и аксессуары        10  \n",
       "1            Бытовая техника        21  \n",
       "2          Предложение услуг       114  \n",
       "3  Одежда, обувь, аксессуары        27  \n",
       "4  Одежда, обувь, аксессуары        27  "
      ]
     },
     "execution_count": 34,
     "metadata": {},
     "output_type": "execute_result"
    }
   ],
   "source": [
    "train.head()"
   ]
  },
  {
   "cell_type": "code",
   "execution_count": 35,
   "metadata": {},
   "outputs": [
    {
     "data": {
      "text/plain": [
       "(4234042, 4)"
      ]
     },
     "execution_count": 35,
     "metadata": {},
     "output_type": "execute_result"
    }
   ],
   "source": [
    "train.shape"
   ]
  },
  {
   "cell_type": "markdown",
   "metadata": {},
   "source": [
    "## Задание 1 (0.5 балла)\n",
    "\n",
    "Выведете на экран информацию о пропусках в данных. Если пропуски присутствуют заполните их пустой строкой."
   ]
  },
  {
   "cell_type": "code",
   "execution_count": 36,
   "metadata": {},
   "outputs": [
    {
     "data": {
      "text/plain": [
       "title            0\n",
       "description      2\n",
       "Category_name    0\n",
       "Category         0\n",
       "dtype: int64"
      ]
     },
     "execution_count": 36,
     "metadata": {},
     "output_type": "execute_result"
    }
   ],
   "source": [
    "train.isnull().sum()"
   ]
  },
  {
   "cell_type": "code",
   "execution_count": 37,
   "metadata": {},
   "outputs": [],
   "source": [
    "train = train.fillna('')"
   ]
  },
  {
   "cell_type": "code",
   "execution_count": 38,
   "metadata": {},
   "outputs": [
    {
     "data": {
      "text/plain": [
       "title          0\n",
       "description    1\n",
       "itemid         0\n",
       "dtype: int64"
      ]
     },
     "execution_count": 38,
     "metadata": {},
     "output_type": "execute_result"
    }
   ],
   "source": [
    "test.isnull().sum()"
   ]
  },
  {
   "cell_type": "code",
   "execution_count": 39,
   "metadata": {},
   "outputs": [],
   "source": [
    "test = test.fillna('')"
   ]
  },
  {
   "cell_type": "markdown",
   "metadata": {},
   "source": [
    "## Задание 2 (0.5 балла)\n",
    "Сконкатенируйте заголовок и описание в единую строку и поместите результат в отдельный столбец. Таким образом мы будет работать с одним текстом, а не с двумя."
   ]
  },
  {
   "cell_type": "markdown",
   "metadata": {},
   "source": [
    "Сказали, что можно взять подвыборку 100к строк, так что..."
   ]
  },
  {
   "cell_type": "code",
   "execution_count": 40,
   "metadata": {},
   "outputs": [],
   "source": [
    "train = train.iloc[400000:500000]"
   ]
  },
  {
   "cell_type": "code",
   "execution_count": 41,
   "metadata": {},
   "outputs": [],
   "source": [
    "train['title + description'] = train['title'] + ' ' + train['description']"
   ]
  },
  {
   "cell_type": "markdown",
   "metadata": {},
   "source": [
    "## Задание 3 (0.5 балла)\n",
    "Давайте немного посмотрим на наши данные. Визуализируйте (где явно просят) или выведете информацию о следующем:\n",
    "\n",
    "1. Сколько всего уникальных классов необходимо предсказать?\n",
    "2. Постройте столбчатую диаграмму распределения по классам. Нормализуйте график, чтобы видеть доли, а не абсолютные значения.\n",
    "3. На сколько большой дисбаланс? Какой класс имеет самую большую долю в выборке (укажите класс и долю), какой класс наименьшую (укажите класс и долю)."
   ]
  },
  {
   "cell_type": "code",
   "execution_count": 42,
   "metadata": {},
   "outputs": [],
   "source": [
    "target = train['Category']"
   ]
  },
  {
   "cell_type": "code",
   "execution_count": 43,
   "metadata": {},
   "outputs": [
    {
     "name": "stdout",
     "output_type": "stream",
     "text": [
      "Нужно предсказать 50 уникальных классов\n"
     ]
    }
   ],
   "source": [
    "num_classes = len(set(target))\n",
    "print(\"Нужно предсказать\", num_classes, \"уникальных классов\")"
   ]
  },
  {
   "cell_type": "code",
   "execution_count": 44,
   "metadata": {},
   "outputs": [],
   "source": [
    "import matplotlib.pyplot as plt"
   ]
  },
  {
   "cell_type": "code",
   "execution_count": 45,
   "metadata": {},
   "outputs": [
    {
     "data": {
      "image/png": "[encoded data removed]",
      "text/plain": [
       "<Figure size 864x432 with 1 Axes>"
      ]
     },
     "metadata": {
      "needs_background": "light"
     },
     "output_type": "display_data"
    }
   ],
   "source": [
    "plt.figure(figsize=(12, 6))\n",
    "\n",
    "target_value_counts = target.value_counts(sort = False)\n",
    "target_norm = target_value_counts/target.size\n",
    "\n",
    "target_norm.plot.bar()\n",
    "plt.show()"
   ]
  },
  {
   "cell_type": "markdown",
   "metadata": {},
   "source": [
    "(На полной выборке картина примерно такая же). Есть несколько классов, которые составляют очень большую долю, а также в целом можно оставшиеся классы поделить на условные две группы: с долей около 0.025 и с долей до ~0.025/4. Самую большую долю имеет класс с номером 27: 17971/100000. Самую маленькую --- с номером 86: 2/100000 (посчитала вручную, запросив значения через target.value_counts(). Удалила эти запросы, чтобы не загружать тетрадь). Те классы, которых мало, специфичные, а те, которых много, правда популярные."
   ]
  },
  {
   "cell_type": "markdown",
   "metadata": {},
   "source": [
    "## Задание 4 (0.5 балла)\n",
    "\n",
    "Далее мы будем пока работать только с train частью. Для test части нам неизвестны истинные значения, и они понадобятся только тогда, когда мы будем отправлять решение на Kaggle.\n",
    "\n",
    "1. Предобработайте данные (train часть) с помощью CountVectorizer.\n",
    "2. Какого размера получилась матрица?\n"
   ]
  },
  {
   "cell_type": "code",
   "execution_count": 50,
   "metadata": {},
   "outputs": [],
   "source": [
    "train_feat = train['title + description']"
   ]
  },
  {
   "cell_type": "code",
   "execution_count": 51,
   "metadata": {},
   "outputs": [],
   "source": [
    "from sklearn.feature_extraction.text import CountVectorizer"
   ]
  },
  {
   "cell_type": "code",
   "execution_count": 52,
   "metadata": {},
   "outputs": [],
   "source": [
    "cnt_vec = CountVectorizer()\n",
    "train_matrix = cnt_vec.fit_transform(train_feat)"
   ]
  },
  {
   "cell_type": "code",
   "execution_count": 53,
   "metadata": {},
   "outputs": [
    {
     "data": {
      "text/plain": [
       "(100000, 227706)"
      ]
     },
     "execution_count": 53,
     "metadata": {},
     "output_type": "execute_result"
    }
   ],
   "source": [
    "train_matrix.shape"
   ]
  },
  {
   "cell_type": "markdown",
   "metadata": {},
   "source": [
    "## Задание 5 (0.5 балла)\n",
    "\n",
    "В предыдущем пункте у вас должная была получится очень большая матрица. Это не дело.\n",
    "Если вы взгляните на текст, то увидете, что там есть множество специальных символов.\n",
    "\n",
    "Давайте также посмотрим на словарь, который получился в результате построения CountVectorizer, его можно найти в поле _vocabulary инстанса этого класса.\n",
    "\n",
    "1. Найдите в этом словаре все слова, которые начинаются на цифру. Сколько таких слов нашлось?\n",
    "\n",
    "2. Найдите все слова, которые начинаются на символы пунктуации. Сколько таких слов нашлось? "
   ]
  },
  {
   "cell_type": "code",
   "execution_count": 54,
   "metadata": {},
   "outputs": [],
   "source": [
    "keys = list(cnt_vec.vocabulary_.keys())"
   ]
  },
  {
   "cell_type": "code",
   "execution_count": 55,
   "metadata": {},
   "outputs": [],
   "source": [
    "dig = '0123456789'"
   ]
  },
  {
   "cell_type": "code",
   "execution_count": 56,
   "metadata": {},
   "outputs": [],
   "source": [
    "digits = [key for key in keys if key[0] in dig]"
   ]
  },
  {
   "cell_type": "code",
   "execution_count": 57,
   "metadata": {},
   "outputs": [
    {
     "data": {
      "text/plain": [
       "32882"
      ]
     },
     "execution_count": 57,
     "metadata": {},
     "output_type": "execute_result"
    }
   ],
   "source": [
    "len(digits)"
   ]
  },
  {
   "cell_type": "code",
   "execution_count": 58,
   "metadata": {},
   "outputs": [],
   "source": [
    "from string import punctuation\n",
    "punct = punctuation + '«»' + '—' # может, и есть еще что-то экзотичное, кроме стандартного из стринга и кавычек-елочек, \n",
    "                           # но показалось неразумным тратить вычисления на их поиски"
   ]
  },
  {
   "cell_type": "code",
   "execution_count": 59,
   "metadata": {},
   "outputs": [],
   "source": [
    "punctuation = [key for key in keys if key[0] in punct]"
   ]
  },
  {
   "cell_type": "code",
   "execution_count": 60,
   "metadata": {},
   "outputs": [
    {
     "data": {
      "text/plain": [
       "147"
      ]
     },
     "execution_count": 60,
     "metadata": {},
     "output_type": "execute_result"
    }
   ],
   "source": [
    "len(punctuation)"
   ]
  },
  {
   "cell_type": "markdown",
   "metadata": {},
   "source": [
    "## Задание 6 (2.5 балла)\n",
    "\n",
    "В scikit-learn мы можем оценивать процесс подсчета матрицы через CountVectorizer. У CountVectorizer, как и у других наследников \\_VectorizerMixin, есть аргумент tokenizer и preprocessor. preprocessor применится в самом начале к каждой строке вашего датасета, tokenizer же должен принять строку и вернуть токены.\n",
    "Давайте напишем кастомный токенайзер, которые сделает все, что нам нужно: \n",
    "\n",
    "0. Приведет все буквы к нижнему регистру\n",
    "1. Разобьет текст на токены с помощью word_tokenizer из пакета nltk\n",
    "2. Удалит все токены содержащие числа и пунктуацию\n",
    "3. Удалит все токены, которые перечислены в nltk.corpus.stopwords('russian')\n",
    "4. Проведет стемминг с помощью SnowballStemmer\n",
    "\n",
    "Продемонстрируйте работу вашей функии на самом первом описании товара в датасете.\n",
    "\n",
    "Важно: так как функию будет необходимо запускать на большом корпусе, подумайте об эффективной реализации. Постарайтесь решить задачу в минимальное количество циклов и копирований.\n",
    "\n",
    "Референсная реализация на компьютере автора работала 230 секунд на 100к строчек."
   ]
  },
  {
   "cell_type": "code",
   "execution_count": 61,
   "metadata": {},
   "outputs": [],
   "source": [
    "demo = train['description'].iloc[0] # для демонстрации на самом первом описании товара в датасете"
   ]
  },
  {
   "cell_type": "code",
   "execution_count": 62,
   "metadata": {},
   "outputs": [
    {
     "name": "stderr",
     "output_type": "stream",
     "text": [
      "[nltk_data] Downloading package stopwords to\n",
      "[nltk_data]     C:\\Users\\KOTIK\\AppData\\Roaming\\nltk_data...\n",
      "[nltk_data]   Package stopwords is already up-to-date!\n"
     ]
    },
    {
     "data": {
      "text/plain": [
       "True"
      ]
     },
     "execution_count": 62,
     "metadata": {},
     "output_type": "execute_result"
    }
   ],
   "source": [
    "from nltk.tokenize import word_tokenize\n",
    "import nltk\n",
    "from nltk.corpus import stopwords\n",
    "from nltk.stem.snowball import SnowballStemmer\n",
    "nltk.download(\"stopwords\")"
   ]
  },
  {
   "cell_type": "code",
   "execution_count": 63,
   "metadata": {},
   "outputs": [],
   "source": [
    "def my_tokenizer(s):\n",
    "    # Приведет все буквы к нижнему регистру\n",
    "    s = s.lower()\n",
    "    \n",
    "    # Разобьет текст на токены с помощью word_tokenizer из пакета nltk\n",
    "    tokens = word_tokenize(s)\n",
    "    \n",
    "    # Удалит все токены содержащие числа и пунктуацию\n",
    "    punct_nums = set(punct + dig) # уже запоминали эти значения в предыдущем разделе\n",
    "    tokens = [token for token in tokens if set(token) & punct_nums == set()]\n",
    "    \n",
    "    # Удалит все токены, которые перечислены в nltk.corpus.stopwords('russian')\n",
    "    stop = set(stopwords.words('russian'))\n",
    "    tokens = list(set(tokens) - stop)\n",
    "    \n",
    "    # Проведет стемминг с помощью SnowballStemmer\n",
    "    stemmer = SnowballStemmer('russian', 'english')\n",
    "    tokens = [stemmer.stem(w) for w in tokens]\n",
    "    \n",
    "    return tokens"
   ]
  },
  {
   "cell_type": "code",
   "execution_count": 64,
   "metadata": {},
   "outputs": [
    {
     "data": {
      "text/plain": [
       "['пиш', 'р', 'смс', 'сапожк', 'отвеча', 'кроссовк', 'звон', 'прод']"
      ]
     },
     "execution_count": 64,
     "metadata": {},
     "output_type": "execute_result"
    }
   ],
   "source": [
    "my_tokenizer(demo) # демонстрирую"
   ]
  },
  {
   "cell_type": "code",
   "execution_count": 80,
   "metadata": {},
   "outputs": [
    {
     "name": "stdout",
     "output_type": "stream",
     "text": [
      "--- 223.18040466308594 seconds ---\n"
     ]
    }
   ],
   "source": [
    "import time \n",
    "start_time = time.time()\n",
    "tokens_train_feat = train_feat.apply(my_tokenizer)\n",
    "print(\"--- %s seconds ---\" % (time.time() - start_time))"
   ]
  },
  {
   "cell_type": "markdown",
   "metadata": {},
   "source": [
    "Даже лучше, чем у мастера!!!\n",
    "\n",
    "Кажется, эти вычисления надо было делать не здесь..."
   ]
  },
  {
   "cell_type": "markdown",
   "metadata": {},
   "source": [
    "## Задание 7 (1 балл)\n",
    "\n",
    "1. Возьмите случайные 500к строк из датасета. Постройте по ним CountVectorizer с применением вашего токенизатора.\n",
    "2. Разбейте полученную матрицу на train, test в отношении 4 к 1. Не забудьте про target переменную.\n",
    "3. Обучите SGDClassifier на полученной выборке.\n",
    "4. Посчитайте метрику accuracy"
   ]
  },
  {
   "cell_type": "markdown",
   "metadata": {},
   "source": [
    "Возьму 100т строк, как говорилось в объявлении про домашку (уже взяла). Замечу, что строю каунт_векторайзер только по названию и описанию, потому что таргет --- категория --- является числом, а числа мы выкидываем в токейназере. Поэтому смысла обрабатывать этот столбец нет."
   ]
  },
  {
   "cell_type": "code",
   "execution_count": 66,
   "metadata": {},
   "outputs": [],
   "source": [
    "cnt_vec = CountVectorizer(tokenizer = my_tokenizer)\n",
    "train_matrix = cnt_vec.fit_transform(train_feat)"
   ]
  },
  {
   "cell_type": "markdown",
   "metadata": {},
   "source": [
    "Теперь нам надо разбить полученное в отношении 4:1. Сделаю в общем виде: посчитаю, какого размера одна часть при делении на 5 частей, и возьму трейн как четыре такие части."
   ]
  },
  {
   "cell_type": "code",
   "execution_count": 67,
   "metadata": {},
   "outputs": [],
   "source": [
    "train_matrix_size_one = train_matrix.shape[0]//5\n",
    "train_size = train_matrix_size_one * 4"
   ]
  },
  {
   "cell_type": "code",
   "execution_count": 68,
   "metadata": {},
   "outputs": [],
   "source": [
    "test_matrix = train_matrix[train_size:]\n",
    "test_target = target.iloc[train_size:]\n",
    "train_matrix = train_matrix[:train_size]\n",
    "train_target = target.iloc[:train_size]"
   ]
  },
  {
   "cell_type": "markdown",
   "metadata": {},
   "source": [
    "Теперь обучим SGDClassifier:"
   ]
  },
  {
   "cell_type": "code",
   "execution_count": 69,
   "metadata": {},
   "outputs": [],
   "source": [
    "# сначала все сделаю по красоте\n",
    "from sklearn.preprocessing import MaxAbsScaler"
   ]
  },
  {
   "cell_type": "code",
   "execution_count": 70,
   "metadata": {},
   "outputs": [],
   "source": [
    "scaler = MaxAbsScaler()\n",
    "train_matrix = scaler.fit_transform(train_matrix)\n",
    "test_matrix = scaler.transform(test_matrix)"
   ]
  },
  {
   "cell_type": "code",
   "execution_count": 71,
   "metadata": {},
   "outputs": [],
   "source": [
    "from sklearn.linear_model import SGDClassifier"
   ]
  },
  {
   "cell_type": "code",
   "execution_count": 72,
   "metadata": {},
   "outputs": [
    {
     "data": {
      "text/plain": [
       "SGDClassifier(alpha=0.0001, average=False, class_weight=None,\n",
       "              early_stopping=False, epsilon=0.1, eta0=0.0, fit_intercept=True,\n",
       "              l1_ratio=0.15, learning_rate='optimal', loss='hinge',\n",
       "              max_iter=1000, n_iter_no_change=5, n_jobs=None, penalty='l2',\n",
       "              power_t=0.5, random_state=None, shuffle=True, tol=0.001,\n",
       "              validation_fraction=0.1, verbose=0, warm_start=False)"
      ]
     },
     "execution_count": 72,
     "metadata": {},
     "output_type": "execute_result"
    }
   ],
   "source": [
    "clf = SGDClassifier(max_iter=1000)\n",
    "clf.fit(train_matrix, train_target)"
   ]
  },
  {
   "cell_type": "code",
   "execution_count": 73,
   "metadata": {},
   "outputs": [],
   "source": [
    "# посчитайте метрику accuracy\n",
    "from sklearn.metrics import accuracy_score"
   ]
  },
  {
   "cell_type": "code",
   "execution_count": 74,
   "metadata": {},
   "outputs": [
    {
     "name": "stdout",
     "output_type": "stream",
     "text": [
      "0.83025\n"
     ]
    }
   ],
   "source": [
    "# посчитайте метрику accuracy\n",
    "from sklearn.metrics import accuracy_score\n",
    "\n",
    "pred = clf.predict(test_matrix)\n",
    "accuracy = accuracy_score(test_target, pred)\n",
    "print(accuracy)"
   ]
  },
  {
   "cell_type": "markdown",
   "metadata": {},
   "source": [
    "## Задание 8 (1 балл)\n",
    "\n",
    "1. Повторите 7 задание, но с tf-idf векторизатором. Как изменилось качество.\n",
    "2. Мы можем еще сильнее уменьшите размер нашей матрицы, если отбросим значения df близкие к единице. Скорее всего такие слова не несут много информации о категории, так как встречаются достаточно часто. Ограничьте максимальный df в параметрах TfIdfVectorizer, поставьте верхнюю границу равную 0.9. Как изменился размер матрицы, как изменилось качество?\n"
   ]
  },
  {
   "cell_type": "code",
   "execution_count": 75,
   "metadata": {},
   "outputs": [
    {
     "name": "stdout",
     "output_type": "stream",
     "text": [
      "0.8425\n"
     ]
    }
   ],
   "source": [
    "from sklearn.feature_extraction.text import TfidfVectorizer\n",
    "\n",
    "vec = TfidfVectorizer(tokenizer = my_tokenizer)\n",
    "train_matrix = vec.fit_transform(train_feat)\n",
    "train_matrix_tf_size = train_matrix.shape\n",
    "\n",
    "train_matrix_size_one = train_matrix.shape[0]//5\n",
    "train_size = train_matrix_size_one * 4\n",
    "\n",
    "test_matrix = train_matrix[train_size:]\n",
    "test_target = target.iloc[train_size:]\n",
    "train_matrix = train_matrix[:train_size]\n",
    "train_target = target.iloc[:train_size]\n",
    "\n",
    "scaler = MaxAbsScaler()\n",
    "train_matrix = scaler.fit_transform(train_matrix)\n",
    "test_matrix = scaler.transform(test_matrix)\n",
    "\n",
    "clf = SGDClassifier(max_iter=1000)\n",
    "clf.fit(train_matrix, train_target)\n",
    "\n",
    "pred = clf.predict(test_matrix)\n",
    "accuracy = accuracy_score(test_target, pred)\n",
    "print(accuracy)"
   ]
  },
  {
   "cell_type": "markdown",
   "metadata": {},
   "source": [
    "Качество улучшилось! Теперь сделаем второе задание."
   ]
  },
  {
   "cell_type": "code",
   "execution_count": 76,
   "metadata": {},
   "outputs": [
    {
     "name": "stdout",
     "output_type": "stream",
     "text": [
      "0.8434\n"
     ]
    }
   ],
   "source": [
    "from sklearn.feature_extraction.text import TfidfVectorizer\n",
    "\n",
    "vec = TfidfVectorizer(tokenizer = my_tokenizer, max_df = 0.9)\n",
    "train_matrix = vec.fit_transform(train_feat)\n",
    "train_matrix_size = train_matrix.shape\n",
    "\n",
    "train_matrix_size_one = train_matrix.shape[0]//5\n",
    "train_size = train_matrix_size_one * 4\n",
    "\n",
    "test_matrix = train_matrix[train_size:]\n",
    "test_target = target.iloc[train_size:]\n",
    "train_matrix = train_matrix[:train_size]\n",
    "train_target = target.iloc[:train_size]\n",
    "\n",
    "scaler = MaxAbsScaler()\n",
    "train_matrix = scaler.fit_transform(train_matrix)\n",
    "test_matrix = scaler.transform(test_matrix)\n",
    "\n",
    "clf = SGDClassifier(max_iter=1000)\n",
    "clf.fit(train_matrix, train_target)\n",
    "\n",
    "pred = clf.predict(test_matrix)\n",
    "accuracy = accuracy_score(test_target, pred)\n",
    "print(accuracy)"
   ]
  },
  {
   "cell_type": "code",
   "execution_count": 77,
   "metadata": {},
   "outputs": [
    {
     "name": "stdout",
     "output_type": "stream",
     "text": [
      "(100000, 91315) (100000, 91315)\n"
     ]
    }
   ],
   "source": [
    "print(train_matrix_size, train_matrix_tf_size)"
   ]
  },
  {
   "cell_type": "markdown",
   "metadata": {},
   "source": [
    "Размеры матриц не изменились, а качество еще улучшилось!"
   ]
  },
  {
   "cell_type": "code",
   "execution_count": 79,
   "metadata": {},
   "outputs": [
    {
     "name": "stdout",
     "output_type": "stream",
     "text": [
      "0.84335\n"
     ]
    }
   ],
   "source": [
    "# второе задание с другим max_df просто так на будущее...\n",
    "\n",
    "from sklearn.feature_extraction.text import TfidfVectorizer\n",
    "\n",
    "vec = TfidfVectorizer(tokenizer = my_tokenizer, max_df = 0.85)\n",
    "train_matrix = vec.fit_transform(train_feat)\n",
    "train_matrix_size = train_matrix.shape\n",
    "\n",
    "train_matrix_size_one = train_matrix.shape[0]//5\n",
    "train_size = train_matrix_size_one * 4\n",
    "\n",
    "test_matrix = train_matrix[train_size:]\n",
    "test_target = target.iloc[train_size:]\n",
    "train_matrix = train_matrix[:train_size]\n",
    "train_target = target.iloc[:train_size]\n",
    "\n",
    "scaler = MaxAbsScaler()\n",
    "train_matrix = scaler.fit_transform(train_matrix)\n",
    "test_matrix = scaler.transform(test_matrix)\n",
    "\n",
    "clf = SGDClassifier(max_iter=1000)\n",
    "clf.fit(train_matrix, train_target)\n",
    "\n",
    "pred = clf.predict(test_matrix)\n",
    "accuracy = accuracy_score(test_target, pred)\n",
    "print(accuracy)"
   ]
  },
  {
   "cell_type": "markdown",
   "metadata": {},
   "source": [
    "## Задание 9 (1 балл)\n",
    "Еще один популяпный трюк, который позволит уменьшить количество признаков, называется hashing trick. Его суть в том, то мы случайно группируем признаки ииии  ..... складываем их! А потом удаляем исходные признаки. В итоге все наши признаки это просто суммы исходных. Звучит странно, но это отлично работает. Давайте проверим этот трюк в нашем сеттинге.\n",
    "Также при таком подходе вам не нужно хранить словарь token->index, что тоже иногда полезно.\n",
    "\n",
    "1. Повторите задание 7 с HashingVectorizer, укажите количество фичей равное 30000.\n",
    "2. Какой из трех подходов показал самый высокий результат?"
   ]
  },
  {
   "cell_type": "code",
   "execution_count": 78,
   "metadata": {},
   "outputs": [
    {
     "name": "stdout",
     "output_type": "stream",
     "text": [
      "0.83195\n"
     ]
    }
   ],
   "source": [
    "from sklearn.feature_extraction.text import HashingVectorizer\n",
    "\n",
    "vec = HashingVectorizer(tokenizer = my_tokenizer, n_features = 30000)\n",
    "train_matrix = vec.fit_transform(train_feat)\n",
    "\n",
    "train_matrix_size_one = train_matrix.shape[0]//5\n",
    "train_size = train_matrix_size_one * 4\n",
    "\n",
    "test_matrix = train_matrix[train_size:]\n",
    "test_target = target.iloc[train_size:]\n",
    "train_matrix = train_matrix[:train_size]\n",
    "train_target = target.iloc[:train_size]\n",
    "\n",
    "scaler = MaxAbsScaler()\n",
    "train_matrix = scaler.fit_transform(train_matrix)\n",
    "test_matrix = scaler.transform(test_matrix)\n",
    "\n",
    "clf = SGDClassifier(max_iter=1000)\n",
    "clf.fit(train_matrix, train_target)\n",
    "\n",
    "pred = clf.predict(test_matrix)\n",
    "accuracy = accuracy_score(test_target, pred)\n",
    "print(accuracy)"
   ]
  },
  {
   "cell_type": "markdown",
   "metadata": {},
   "source": [
    "Самый высокий результат --- tf-idf с max_df = 0.9."
   ]
  },
  {
   "cell_type": "markdown",
   "metadata": {},
   "source": [
    "## Задание 10 (1.5 балла)\n",
    "\n",
    "Пришло время выйти в мир. Отправляйтесь на Kaggle Inclass и сделайте первую посылку. Там вы найдете инструкцию как сформировать файл с предсказаниями и отправить его."
   ]
  },
  {
   "cell_type": "markdown",
   "metadata": {},
   "source": [
    "Прочекала пару вариаций, стало только хуже с ними. Обучу на tf-idf с max_df = 0.9.\n",
    "Хочу сбалансированную выборку.\n",
    "\n",
    "Cначала посмотрю на сбалансированную выборку снова для train."
   ]
  },
  {
   "cell_type": "code",
   "execution_count": 82,
   "metadata": {},
   "outputs": [],
   "source": [
    "target_val = set(target.unique())\n",
    "\n",
    "new_train = train.loc[:2]\n",
    "for i in target_val:\n",
    "    if train['Category'].value_counts().loc[i] < 400:\n",
    "        new_train = new_train.append(train[train['Category'] == i])\n",
    "        new_train = new_train.append(train[train['Category'] == i])\n",
    "        new_train = new_train.append(train[train['Category'] == i])\n",
    "        new_train = new_train.append(train[train['Category'] == i])\n",
    "    elif 400 <= train['Category'].value_counts().loc[i] < 1000:\n",
    "        new_train = new_train.append(train[train['Category'] == i])\n",
    "        new_train = new_train.append(train[train['Category'] == i])\n",
    "    elif 1000 <= train['Category'].value_counts().loc[i] < 1500:\n",
    "        new_train = new_train.append(train[train['Category'] == i])\n",
    "        new_train = new_train.append(train[train['Category'] == i].iloc[:500])\n",
    "    elif 1500 <= train['Category'].value_counts().loc[i] < 2000:\n",
    "        new_train = new_train.append(train[train['Category'] == i])\n",
    "        new_train = new_train.append(train[train['Category'] == i].iloc[:250])\n",
    "    else:\n",
    "        new_train = new_train.append(train[train['Category'] == i].iloc[:2000])"
   ]
  },
  {
   "cell_type": "code",
   "execution_count": 84,
   "metadata": {},
   "outputs": [
    {
     "data": {
      "image/png": "[encoded data removed]",
      "text/plain": [
       "<Figure size 864x432 with 1 Axes>"
      ]
     },
     "metadata": {
      "needs_background": "light"
     },
     "output_type": "display_data"
    }
   ],
   "source": [
    "new_target = new_train['Category']\n",
    "new_target_value_counts = new_target.value_counts(sort = False)\n",
    "new_target_norm = new_target_value_counts/new_target.size\n",
    "\n",
    "plt.figure(figsize=(12, 6))\n",
    "new_target_norm.plot.bar()\n",
    "plt.show()\n",
    "\n",
    "# кажется, что сильно повторять этот класс, которого изначально не очень много, не стоит"
   ]
  },
  {
   "cell_type": "code",
   "execution_count": null,
   "metadata": {},
   "outputs": [],
   "source": [
    "# обучение + тестирование на трейне (не успела запустить, но обучение на всей выборке ниже запустила)\n",
    "\n",
    "shuffled_train = new_train.sample(frac=1).reset_index(drop=True) # перемешиваю, а то у меня слоенно все\n",
    "shuffled_train['title + description'] = shuffled_train['title'] + ' ' + shuffled_train['description']\n",
    "shuffled_target = shuffled_train['Category']\n",
    "\n",
    "vec = TfidfVectorizer(tokenizer = my_tokenizer)\n",
    "train_matrix = vec.fit_transform(shuffled_train['title + description'])\n",
    "\n",
    "train_matrix_size_one = train_matrix.shape[0]//5\n",
    "train_size = train_matrix_size_one * 4\n",
    "\n",
    "test_matrix = train_matrix[train_size:]\n",
    "test_target = new_target.iloc[train_size:]\n",
    "train_matrix = train_matrix[:train_size]\n",
    "train_target = new_target.iloc[:train_size]\n",
    "\n",
    "scaler = MaxAbsScaler()\n",
    "train_matrix = scaler.fit_transform(train_matrix)\n",
    "test_matrix = scaler.transform(test_matrix)\n",
    "\n",
    "clf = SGDClassifier(max_iter=1000)\n",
    "clf.fit(train_matrix, train_target)\n",
    "\n",
    "pred = clf.predict(test_matrix)\n",
    "accuracy = accuracy_score(test_target, pred)\n",
    "print(accuracy)"
   ]
  },
  {
   "cell_type": "code",
   "execution_count": 91,
   "metadata": {},
   "outputs": [
    {
     "name": "stdout",
     "output_type": "stream",
     "text": [
      "0.9357915327934484\n"
     ]
    }
   ],
   "source": [
    "# обучение на всем трейне\n",
    "\n",
    "vec = TfidfVectorizer(tokenizer = my_tokenizer)\n",
    "new_train['title + description'] = new_train['title'] + ' ' + new_train['description']\n",
    "train_matrix = vec.fit_transform(new_train['title + description'])\n",
    "\n",
    "scaler = MaxAbsScaler()\n",
    "train_matrix = scaler.fit_transform(train_matrix)\n",
    "\n",
    "clf = SGDClassifier(max_iter=1000)\n",
    "clf.fit(train_matrix, new_target)\n",
    "\n",
    "pred = clf.predict(train_matrix)\n",
    "accuracy = accuracy_score(new_target, pred)\n",
    "print(accuracy)"
   ]
  },
  {
   "cell_type": "markdown",
   "metadata": {},
   "source": [
    "А теперь наконец сделаем предсказания на тесте!"
   ]
  },
  {
   "cell_type": "code",
   "execution_count": null,
   "metadata": {},
   "outputs": [],
   "source": [
    "test_info = test['title'] + ' ' + test['description']\n",
    "test_matrix = vec.transform(test_info)"
   ]
  },
  {
   "cell_type": "code",
   "execution_count": null,
   "metadata": {},
   "outputs": [],
   "source": [
    "test_matrix = scaler.transform(test_matrix)\n",
    "\n",
    "pred = clf.predict(test_matrix)\n",
    "pd.DataFrame(pred).to_csv(\"result.csv\")"
   ]
  },
  {
   "cell_type": "markdown",
   "metadata": {},
   "source": [
    "Не хочу отправлять на энитаск в последний момент --- сейчас не успевает досчитаться, но, когда досчитается, загружу результат на кэггл!"
   ]
  }
 ],
 "metadata": {
  "kernelspec": {
   "display_name": "Python 3",
   "language": "python",
   "name": "python3"
  },
  "language_info": {
   "codemirror_mode": {
    "name": "ipython",
    "version": 3
   },
   "file_extension": ".py",
   "mimetype": "text/x-python",
   "name": "python",
   "nbconvert_exporter": "python",
   "pygments_lexer": "ipython3",
   "version": "3.7.4"
  }
 },
 "nbformat": 4,
 "nbformat_minor": 2
}
